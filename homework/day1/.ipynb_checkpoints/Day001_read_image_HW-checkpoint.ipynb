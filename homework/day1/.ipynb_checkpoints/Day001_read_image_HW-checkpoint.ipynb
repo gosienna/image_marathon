{
 "cells": [
  {
   "cell_type": "markdown",
   "metadata": {},
   "source": [
    "# 作業\n",
    "\n",
    "思考一下我們前面有提到圖片是矩陣，但維度可能會不一樣\n",
    "例如灰階圖只有兩個維度，RGB 彩圖則有 3 個維度\n",
    "\n",
    "假如今天我們把 RGB 3 個維度拆開來看會有甚麼不同的效果呢？"
   ]
  },
  {
   "cell_type": "code",
   "execution_count": 17,
   "metadata": {},
   "outputs": [],
   "source": [
    "import cv2\n",
    "import numpy as np\n",
    "img_path='lena.png'\n",
    "# 以彩色圖片的方式載入\n",
    "img = cv2.imread(img_path, cv2.IMREAD_COLOR)\n",
    "img_r=np.zeros((512,512,3),dtype='uint8')\n",
    "img_g=np.zeros((512,512,3),dtype='uint8')\n",
    "img_b=np.zeros((512,512,3),dtype='uint8')"
   ]
  },
  {
   "cell_type": "code",
   "execution_count": 33,
   "metadata": {},
   "outputs": [],
   "source": [
    "img_r[:,:,2]=img[:,:,2]\n",
    "img_g[:,:,1]=img[:,:,1]\n",
    "img_b[:,:,0]=img[:,:,0]"
   ]
  },
  {
   "cell_type": "code",
   "execution_count": null,
   "metadata": {},
   "outputs": [],
   "source": [
    "# 為了要不斷顯示圖片，所以使用一個迴圈\n",
    "while True:\n",
    "    # 顯示3個chennal\n",
    "    cv2.imshow('red', img)\n",
    "    cv2.imshow('green', img_g)\n",
    "    cv2.imshow('blue', img_b)\n",
    "    k = cv2.waitKey(0)\n",
    "    if k == 27:\n",
    "        cv2.destroyAllWindows()\n",
    "        break"
   ]
  }
 ],
 "metadata": {
  "kernelspec": {
   "display_name": "Python 3",
   "language": "python",
   "name": "python3"
  },
  "language_info": {
   "codemirror_mode": {
    "name": "ipython",
    "version": 3
   },
   "file_extension": ".py",
   "mimetype": "text/x-python",
   "name": "python",
   "nbconvert_exporter": "python",
   "pygments_lexer": "ipython3",
   "version": "3.7.1"
  }
 },
 "nbformat": 4,
 "nbformat_minor": 2
}
